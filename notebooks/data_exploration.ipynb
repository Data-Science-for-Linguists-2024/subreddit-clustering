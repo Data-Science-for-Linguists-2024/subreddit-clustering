{
 "cells": [
  {
   "cell_type": "markdown",
   "id": "4c43b3c5-4b11-4d70-b814-c71bd3f52b76",
   "metadata": {},
   "source": [
    "# Data Exploration"
   ]
  },
  {
   "cell_type": "markdown",
   "id": "2e44ab04-3b0c-4abb-b9eb-691c2c6e138c",
   "metadata": {},
   "source": [
    "To see my methods for collecting the data, look at `scrape_top_subreddits.py` and then `scrape_comments.py` in the `scripts` folder."
   ]
  },
  {
   "cell_type": "code",
   "execution_count": 1,
   "id": "df5eaedc-88d6-4af0-b19a-c12441c5f7c9",
   "metadata": {},
   "outputs": [],
   "source": [
    "import pandas as pd"
   ]
  },
  {
   "cell_type": "code",
   "execution_count": 2,
   "id": "16ce7da4-160b-4b1f-b91b-b87c08564c16",
   "metadata": {},
   "outputs": [],
   "source": [
    "top_10 = pd.read_json(\"../private/comment_data_10.json\")\n",
    "top_100 = pd.read_json(\"../private/comment_data_100.json\")\n",
    "top_1000 = pd.read_json(\"../private/comment_data_1000.json\")\n",
    "top_2500 = pd.read_json(\"../private/comment_data_2500.json\")"
   ]
  },
  {
   "cell_type": "markdown",
   "id": "86b7a955-4074-4f7a-aedd-d47ca76413f5",
   "metadata": {},
   "source": [
    "I split my dataset into four different sizes. The number in the file name is how far down the top subreddit list I went when scraping. So for example, `comment_data_10.json` contains every comment from the top ten posts of the past year from the top ten subreddits, while `comment_data_100.json` contains the same for the top 100 subredddits. `top_10` is the set I intend to use for basic experimentation, so I don't have to wait too long for operations to complete. Once I have my code worked out, I can scale it up to `top_100` for actual analysis. Then if that goes well and I want to scale up further, I can switch to `top_1000` or even `top_2500`."
   ]
  },
  {
   "cell_type": "code",
   "execution_count": 3,
   "id": "71c3ea0b-a6ad-4c94-9bd6-4830e4b82a13",
   "metadata": {},
   "outputs": [
    {
     "data": {
      "text/html": [
       "<div>\n",
       "<style scoped>\n",
       "    .dataframe tbody tr th:only-of-type {\n",
       "        vertical-align: middle;\n",
       "    }\n",
       "\n",
       "    .dataframe tbody tr th {\n",
       "        vertical-align: top;\n",
       "    }\n",
       "\n",
       "    .dataframe thead th {\n",
       "        text-align: right;\n",
       "    }\n",
       "</style>\n",
       "<table border=\"1\" class=\"dataframe\">\n",
       "  <thead>\n",
       "    <tr style=\"text-align: right;\">\n",
       "      <th></th>\n",
       "      <th>subreddit</th>\n",
       "      <th>comment_id</th>\n",
       "      <th>text</th>\n",
       "    </tr>\n",
       "  </thead>\n",
       "  <tbody>\n",
       "    <tr>\n",
       "      <th>0</th>\n",
       "      <td>funny</td>\n",
       "      <td>jg3d9yg</td>\n",
       "      <td>\"Oh my god! That's awful!\" Exactly how you wan...</td>\n",
       "    </tr>\n",
       "    <tr>\n",
       "      <th>1</th>\n",
       "      <td>funny</td>\n",
       "      <td>jg3af9r</td>\n",
       "      <td>Her eyes when he stood up.</td>\n",
       "    </tr>\n",
       "    <tr>\n",
       "      <th>2</th>\n",
       "      <td>funny</td>\n",
       "      <td>jg3apmv</td>\n",
       "      <td>[deleted]</td>\n",
       "    </tr>\n",
       "    <tr>\n",
       "      <th>3</th>\n",
       "      <td>funny</td>\n",
       "      <td>jg3782t</td>\n",
       "      <td>the reporter's name is Brad Blanks</td>\n",
       "    </tr>\n",
       "    <tr>\n",
       "      <th>4</th>\n",
       "      <td>funny</td>\n",
       "      <td>jg39vhb</td>\n",
       "      <td>**Jennifer:** What are you getting in the way-...</td>\n",
       "    </tr>\n",
       "  </tbody>\n",
       "</table>\n",
       "</div>"
      ],
      "text/plain": [
       "  subreddit comment_id                                               text\n",
       "0     funny    jg3d9yg  \"Oh my god! That's awful!\" Exactly how you wan...\n",
       "1     funny    jg3af9r                         Her eyes when he stood up.\n",
       "2     funny    jg3apmv                                          [deleted]\n",
       "3     funny    jg3782t                 the reporter's name is Brad Blanks\n",
       "4     funny    jg39vhb  **Jennifer:** What are you getting in the way-..."
      ]
     },
     "execution_count": 3,
     "metadata": {},
     "output_type": "execute_result"
    }
   ],
   "source": [
    "top_10.head()"
   ]
  },
  {
   "cell_type": "markdown",
   "id": "0865de31-bb4f-410f-bfb5-3bc6904716b2",
   "metadata": {},
   "source": [
    "Since I scraped the data myself, the format is already good for my purposes and I don't have to clean up much, other than removing the `[deleted]` and `[removed]` comments. Each file is structured like this, with the only difference being the number of rows. The `subreddit` column contains of the name the subreddit the comment was left on. The `comment_id` column contains an id which can be used with the reddit api to fetch more information about a comment, such as its number of upvotes, the post it was left on, or when it was made. Finally, the `text` column contains the text of the comment."
   ]
  },
  {
   "cell_type": "code",
   "execution_count": 4,
   "id": "f1590e02-8890-4f82-87f1-322dff0c4fee",
   "metadata": {},
   "outputs": [
    {
     "name": "stdout",
     "output_type": "stream",
     "text": [
      "<class 'pandas.core.frame.DataFrame'>\n",
      "RangeIndex: 9838 entries, 0 to 9837\n",
      "Data columns (total 3 columns):\n",
      " #   Column      Non-Null Count  Dtype \n",
      "---  ------      --------------  ----- \n",
      " 0   subreddit   9838 non-null   object\n",
      " 1   comment_id  9838 non-null   object\n",
      " 2   text        9838 non-null   object\n",
      "dtypes: object(3)\n",
      "memory usage: 230.7+ KB\n"
     ]
    }
   ],
   "source": [
    "top_10.info()"
   ]
  },
  {
   "cell_type": "code",
   "execution_count": 5,
   "id": "a3a718a8-a3fb-42ec-a55e-59a04bc06593",
   "metadata": {},
   "outputs": [
    {
     "data": {
      "text/html": [
       "<div>\n",
       "<style scoped>\n",
       "    .dataframe tbody tr th:only-of-type {\n",
       "        vertical-align: middle;\n",
       "    }\n",
       "\n",
       "    .dataframe tbody tr th {\n",
       "        vertical-align: top;\n",
       "    }\n",
       "\n",
       "    .dataframe thead th {\n",
       "        text-align: right;\n",
       "    }\n",
       "</style>\n",
       "<table border=\"1\" class=\"dataframe\">\n",
       "  <thead>\n",
       "    <tr style=\"text-align: right;\">\n",
       "      <th></th>\n",
       "      <th>subreddit</th>\n",
       "      <th>comment_id</th>\n",
       "      <th>text</th>\n",
       "    </tr>\n",
       "  </thead>\n",
       "  <tbody>\n",
       "    <tr>\n",
       "      <th>count</th>\n",
       "      <td>9838</td>\n",
       "      <td>9838</td>\n",
       "      <td>9838</td>\n",
       "    </tr>\n",
       "    <tr>\n",
       "      <th>unique</th>\n",
       "      <td>10</td>\n",
       "      <td>9838</td>\n",
       "      <td>9456</td>\n",
       "    </tr>\n",
       "    <tr>\n",
       "      <th>top</th>\n",
       "      <td>aww</td>\n",
       "      <td>jg3d9yg</td>\n",
       "      <td>[deleted]</td>\n",
       "    </tr>\n",
       "    <tr>\n",
       "      <th>freq</th>\n",
       "      <td>1962</td>\n",
       "      <td>1</td>\n",
       "      <td>164</td>\n",
       "    </tr>\n",
       "  </tbody>\n",
       "</table>\n",
       "</div>"
      ],
      "text/plain": [
       "       subreddit comment_id       text\n",
       "count       9838       9838       9838\n",
       "unique        10       9838       9456\n",
       "top          aww    jg3d9yg  [deleted]\n",
       "freq        1962          1        164"
      ]
     },
     "execution_count": 5,
     "metadata": {},
     "output_type": "execute_result"
    }
   ],
   "source": [
    "top_10.describe()"
   ]
  },
  {
   "cell_type": "code",
   "execution_count": 6,
   "id": "43ef899d-f2f8-482a-bf2f-e5c5bcc916b3",
   "metadata": {},
   "outputs": [
    {
     "name": "stdout",
     "output_type": "stream",
     "text": [
      "<class 'pandas.core.frame.DataFrame'>\n",
      "RangeIndex: 120856 entries, 0 to 120855\n",
      "Data columns (total 3 columns):\n",
      " #   Column      Non-Null Count   Dtype \n",
      "---  ------      --------------   ----- \n",
      " 0   subreddit   120856 non-null  object\n",
      " 1   comment_id  120856 non-null  object\n",
      " 2   text        120856 non-null  object\n",
      "dtypes: object(3)\n",
      "memory usage: 2.8+ MB\n"
     ]
    }
   ],
   "source": [
    "top_100.info()"
   ]
  },
  {
   "cell_type": "code",
   "execution_count": 7,
   "id": "d64efaf1-99e2-42a8-a04f-58ac2007983a",
   "metadata": {},
   "outputs": [
    {
     "data": {
      "text/html": [
       "<div>\n",
       "<style scoped>\n",
       "    .dataframe tbody tr th:only-of-type {\n",
       "        vertical-align: middle;\n",
       "    }\n",
       "\n",
       "    .dataframe tbody tr th {\n",
       "        vertical-align: top;\n",
       "    }\n",
       "\n",
       "    .dataframe thead th {\n",
       "        text-align: right;\n",
       "    }\n",
       "</style>\n",
       "<table border=\"1\" class=\"dataframe\">\n",
       "  <thead>\n",
       "    <tr style=\"text-align: right;\">\n",
       "      <th></th>\n",
       "      <th>subreddit</th>\n",
       "      <th>comment_id</th>\n",
       "      <th>text</th>\n",
       "    </tr>\n",
       "  </thead>\n",
       "  <tbody>\n",
       "    <tr>\n",
       "      <th>count</th>\n",
       "      <td>120856</td>\n",
       "      <td>120856</td>\n",
       "      <td>120856</td>\n",
       "    </tr>\n",
       "    <tr>\n",
       "      <th>unique</th>\n",
       "      <td>100</td>\n",
       "      <td>120856</td>\n",
       "      <td>115028</td>\n",
       "    </tr>\n",
       "    <tr>\n",
       "      <th>top</th>\n",
       "      <td>cats</td>\n",
       "      <td>jg3d9yg</td>\n",
       "      <td>[deleted]</td>\n",
       "    </tr>\n",
       "    <tr>\n",
       "      <th>freq</th>\n",
       "      <td>2548</td>\n",
       "      <td>1</td>\n",
       "      <td>1342</td>\n",
       "    </tr>\n",
       "  </tbody>\n",
       "</table>\n",
       "</div>"
      ],
      "text/plain": [
       "       subreddit comment_id       text\n",
       "count     120856     120856     120856\n",
       "unique       100     120856     115028\n",
       "top         cats    jg3d9yg  [deleted]\n",
       "freq        2548          1       1342"
      ]
     },
     "execution_count": 7,
     "metadata": {},
     "output_type": "execute_result"
    }
   ],
   "source": [
    "top_100.describe()"
   ]
  },
  {
   "cell_type": "code",
   "execution_count": 8,
   "id": "7843b731-6706-4a8f-91ab-5f9dd65c8345",
   "metadata": {},
   "outputs": [
    {
     "name": "stdout",
     "output_type": "stream",
     "text": [
      "<class 'pandas.core.frame.DataFrame'>\n",
      "RangeIndex: 1132141 entries, 0 to 1132140\n",
      "Data columns (total 3 columns):\n",
      " #   Column      Non-Null Count    Dtype \n",
      "---  ------      --------------    ----- \n",
      " 0   subreddit   1132141 non-null  object\n",
      " 1   comment_id  1132141 non-null  object\n",
      " 2   text        1132141 non-null  object\n",
      "dtypes: object(3)\n",
      "memory usage: 25.9+ MB\n"
     ]
    }
   ],
   "source": [
    "top_1000.info()"
   ]
  },
  {
   "cell_type": "code",
   "execution_count": 9,
   "id": "d53858da-ec7c-4c7c-b53e-afaf3fe24f67",
   "metadata": {},
   "outputs": [
    {
     "data": {
      "text/html": [
       "<div>\n",
       "<style scoped>\n",
       "    .dataframe tbody tr th:only-of-type {\n",
       "        vertical-align: middle;\n",
       "    }\n",
       "\n",
       "    .dataframe tbody tr th {\n",
       "        vertical-align: top;\n",
       "    }\n",
       "\n",
       "    .dataframe thead th {\n",
       "        text-align: right;\n",
       "    }\n",
       "</style>\n",
       "<table border=\"1\" class=\"dataframe\">\n",
       "  <thead>\n",
       "    <tr style=\"text-align: right;\">\n",
       "      <th></th>\n",
       "      <th>subreddit</th>\n",
       "      <th>comment_id</th>\n",
       "      <th>text</th>\n",
       "    </tr>\n",
       "  </thead>\n",
       "  <tbody>\n",
       "    <tr>\n",
       "      <th>count</th>\n",
       "      <td>1132141</td>\n",
       "      <td>1132141</td>\n",
       "      <td>1132141</td>\n",
       "    </tr>\n",
       "    <tr>\n",
       "      <th>unique</th>\n",
       "      <td>1000</td>\n",
       "      <td>1132141</td>\n",
       "      <td>1056914</td>\n",
       "    </tr>\n",
       "    <tr>\n",
       "      <th>top</th>\n",
       "      <td>painting</td>\n",
       "      <td>jg3d9yg</td>\n",
       "      <td>[deleted]</td>\n",
       "    </tr>\n",
       "    <tr>\n",
       "      <th>freq</th>\n",
       "      <td>3851</td>\n",
       "      <td>1</td>\n",
       "      <td>9239</td>\n",
       "    </tr>\n",
       "  </tbody>\n",
       "</table>\n",
       "</div>"
      ],
      "text/plain": [
       "       subreddit comment_id       text\n",
       "count    1132141    1132141    1132141\n",
       "unique      1000    1132141    1056914\n",
       "top     painting    jg3d9yg  [deleted]\n",
       "freq        3851          1       9239"
      ]
     },
     "execution_count": 9,
     "metadata": {},
     "output_type": "execute_result"
    }
   ],
   "source": [
    "top_1000.describe()"
   ]
  },
  {
   "cell_type": "code",
   "execution_count": 10,
   "id": "e5bb43bd-1bbf-47dc-bfb8-2e9d0cec2c99",
   "metadata": {},
   "outputs": [
    {
     "name": "stdout",
     "output_type": "stream",
     "text": [
      "<class 'pandas.core.frame.DataFrame'>\n",
      "RangeIndex: 2320731 entries, 0 to 2320730\n",
      "Data columns (total 3 columns):\n",
      " #   Column      Dtype \n",
      "---  ------      ----- \n",
      " 0   subreddit   object\n",
      " 1   comment_id  object\n",
      " 2   text        object\n",
      "dtypes: object(3)\n",
      "memory usage: 53.1+ MB\n"
     ]
    }
   ],
   "source": [
    "top_2500.info()"
   ]
  },
  {
   "cell_type": "code",
   "execution_count": 11,
   "id": "2ac00df1-ec31-4023-b82f-e72f8d0d8308",
   "metadata": {},
   "outputs": [
    {
     "data": {
      "text/html": [
       "<div>\n",
       "<style scoped>\n",
       "    .dataframe tbody tr th:only-of-type {\n",
       "        vertical-align: middle;\n",
       "    }\n",
       "\n",
       "    .dataframe tbody tr th {\n",
       "        vertical-align: top;\n",
       "    }\n",
       "\n",
       "    .dataframe thead th {\n",
       "        text-align: right;\n",
       "    }\n",
       "</style>\n",
       "<table border=\"1\" class=\"dataframe\">\n",
       "  <thead>\n",
       "    <tr style=\"text-align: right;\">\n",
       "      <th></th>\n",
       "      <th>subreddit</th>\n",
       "      <th>comment_id</th>\n",
       "      <th>text</th>\n",
       "    </tr>\n",
       "  </thead>\n",
       "  <tbody>\n",
       "    <tr>\n",
       "      <th>count</th>\n",
       "      <td>2320731</td>\n",
       "      <td>2320731</td>\n",
       "      <td>2320731</td>\n",
       "    </tr>\n",
       "    <tr>\n",
       "      <th>unique</th>\n",
       "      <td>2492</td>\n",
       "      <td>2320731</td>\n",
       "      <td>2145538</td>\n",
       "    </tr>\n",
       "    <tr>\n",
       "      <th>top</th>\n",
       "      <td>Faces</td>\n",
       "      <td>jg3d9yg</td>\n",
       "      <td>[deleted]</td>\n",
       "    </tr>\n",
       "    <tr>\n",
       "      <th>freq</th>\n",
       "      <td>3858</td>\n",
       "      <td>1</td>\n",
       "      <td>17345</td>\n",
       "    </tr>\n",
       "  </tbody>\n",
       "</table>\n",
       "</div>"
      ],
      "text/plain": [
       "       subreddit comment_id       text\n",
       "count    2320731    2320731    2320731\n",
       "unique      2492    2320731    2145538\n",
       "top        Faces    jg3d9yg  [deleted]\n",
       "freq        3858          1      17345"
      ]
     },
     "execution_count": 11,
     "metadata": {},
     "output_type": "execute_result"
    }
   ],
   "source": [
    "top_2500.describe()"
   ]
  },
  {
   "cell_type": "markdown",
   "id": "a7df7eb0-ede3-4035-b6d7-a88b01875566",
   "metadata": {},
   "source": [
    "Almost all of this information seems to check out, and wow those big datasets have a lot of rows! But what are these 8 missing subreddits in the top_2500 dataset? We can pull in the list I used in my scraper to figures this out."
   ]
  },
  {
   "cell_type": "code",
   "execution_count": 12,
   "id": "0ce1aa4a-bcfd-4707-a1c8-057ec8176f2f",
   "metadata": {},
   "outputs": [
    {
     "data": {
      "text/plain": [
       "{'ForHire_GameDev',\n",
       " 'ForHire_OG',\n",
       " 'ForeverAloneDating',\n",
       " 'GlamourSchool',\n",
       " 'TheArtistStudio',\n",
       " 'badtattoos',\n",
       " 'recipegifs',\n",
       " 'shortcircuit'}"
      ]
     },
     "execution_count": 12,
     "metadata": {},
     "output_type": "execute_result"
    }
   ],
   "source": [
    "with open(\"../private/top_subreddits.txt\") as f:\n",
    "    expected = set(f.read().split())\n",
    "actual = set(top_2500[\"subreddit\"])\n",
    "expected.difference(actual)"
   ]
  },
  {
   "cell_type": "markdown",
   "id": "a5fc956d-75fc-47d3-9a3a-c93fee666790",
   "metadata": {},
   "source": [
    "Interesting, looking at these subreddits the problem for most of them seems to be that these subreddits haven't had any posts in the past year, and since I only looked at the top posts of the year, there weren't any posts in the list."
   ]
  },
  {
   "cell_type": "code",
   "execution_count": 13,
   "id": "6527d535-4a62-4c7d-a05b-3b30761688f8",
   "metadata": {},
   "outputs": [],
   "source": [
    "# TODO: mess with the data a bit more"
   ]
  }
 ],
 "metadata": {
  "kernelspec": {
   "display_name": "Python 3 (ipykernel)",
   "language": "python",
   "name": "python3"
  },
  "language_info": {
   "codemirror_mode": {
    "name": "ipython",
    "version": 3
   },
   "file_extension": ".py",
   "mimetype": "text/x-python",
   "name": "python",
   "nbconvert_exporter": "python",
   "pygments_lexer": "ipython3",
   "version": "3.11.7"
  }
 },
 "nbformat": 4,
 "nbformat_minor": 5
}
