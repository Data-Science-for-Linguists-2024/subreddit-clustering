{
 "cells": [
  {
   "cell_type": "markdown",
   "id": "4c43b3c5-4b11-4d70-b814-c71bd3f52b76",
   "metadata": {},
   "source": [
    "# Data Exploration"
   ]
  },
  {
   "cell_type": "markdown",
   "id": "2e44ab04-3b0c-4abb-b9eb-691c2c6e138c",
   "metadata": {},
   "source": [
    "Now that the data has been collected, it's time to take a look around it to see what we have. To see my methods for collecting the data, look at `scrape_top_subreddits.py` and then `scrape_comments.py` in the `scripts` folder."
   ]
  },
  {
   "cell_type": "markdown",
   "id": "8e7d42e5",
   "metadata": {},
   "source": [
    "### Table of contents\n",
    "- [The Data](#the-data)\n",
    "- [Cleaning](#cleaning)\n",
    "- [Data Processing](#data-processing)\n",
    "- [Looking at Processed Data](#looking-at-processed-data)"
   ]
  },
  {
   "cell_type": "code",
   "execution_count": 1,
   "id": "df5eaedc-88d6-4af0-b19a-c12441c5f7c9",
   "metadata": {},
   "outputs": [],
   "source": [
    "import pandas as pd\n",
    "import matplotlib.pyplot as plt\n",
    "import nltk\n",
    "import numpy as np\n",
    "import seaborn as sns\n",
    "sns.set_theme()"
   ]
  },
  {
   "cell_type": "markdown",
   "id": "37c38072",
   "metadata": {},
   "source": [
    "## The Data "
   ]
  },
  {
   "cell_type": "code",
   "execution_count": 2,
   "id": "16ce7da4-160b-4b1f-b91b-b87c08564c16",
   "metadata": {},
   "outputs": [],
   "source": [
    "top_10 = pd.read_json(\"../private/comment_data_10.json\")\n",
    "top_100 = pd.read_json(\"../private/comment_data_100.json\")\n",
    "top_1000 = pd.read_json(\"../private/comment_data_1000.json\")\n",
    "top_2500 = pd.read_json(\"../private/comment_data_2500.json\")"
   ]
  },
  {
   "cell_type": "markdown",
   "id": "86b7a955-4074-4f7a-aedd-d47ca76413f5",
   "metadata": {},
   "source": [
    "I split my dataset into four different sizes. The number in the file name is how far down the top subreddit list I went when scraping. So for example, `comment_data_10.json` contains every comment from the top ten posts of the past year from the top ten subreddits, while `comment_data_100.json` contains the same for the top 100 subredddits. `top_10` is the set I intend to use for basic experimentation, so I don't have to wait too long for operations to complete. Once I have my code worked out, I can scale it up to `top_100` for actual analysis. Then if that goes well and I want to scale up further, I can switch to `top_1000` or even `top_2500`."
   ]
  },
  {
   "cell_type": "code",
   "execution_count": 3,
   "id": "71c3ea0b-a6ad-4c94-9bd6-4830e4b82a13",
   "metadata": {},
   "outputs": [
    {
     "data": {
      "text/html": [
       "<div>\n",
       "<style scoped>\n",
       "    .dataframe tbody tr th:only-of-type {\n",
       "        vertical-align: middle;\n",
       "    }\n",
       "\n",
       "    .dataframe tbody tr th {\n",
       "        vertical-align: top;\n",
       "    }\n",
       "\n",
       "    .dataframe thead th {\n",
       "        text-align: right;\n",
       "    }\n",
       "</style>\n",
       "<table border=\"1\" class=\"dataframe\">\n",
       "  <thead>\n",
       "    <tr style=\"text-align: right;\">\n",
       "      <th></th>\n",
       "      <th>subreddit</th>\n",
       "      <th>comment_id</th>\n",
       "      <th>text</th>\n",
       "    </tr>\n",
       "  </thead>\n",
       "  <tbody>\n",
       "    <tr>\n",
       "      <th>0</th>\n",
       "      <td>funny</td>\n",
       "      <td>jg3d9yg</td>\n",
       "      <td>\"Oh my god! That's awful!\" Exactly how you wan...</td>\n",
       "    </tr>\n",
       "    <tr>\n",
       "      <th>1</th>\n",
       "      <td>funny</td>\n",
       "      <td>jg3af9r</td>\n",
       "      <td>Her eyes when he stood up.</td>\n",
       "    </tr>\n",
       "    <tr>\n",
       "      <th>2</th>\n",
       "      <td>funny</td>\n",
       "      <td>jg3apmv</td>\n",
       "      <td>[deleted]</td>\n",
       "    </tr>\n",
       "    <tr>\n",
       "      <th>3</th>\n",
       "      <td>funny</td>\n",
       "      <td>jg3782t</td>\n",
       "      <td>the reporter's name is Brad Blanks</td>\n",
       "    </tr>\n",
       "    <tr>\n",
       "      <th>4</th>\n",
       "      <td>funny</td>\n",
       "      <td>jg39vhb</td>\n",
       "      <td>**Jennifer:** What are you getting in the way-...</td>\n",
       "    </tr>\n",
       "  </tbody>\n",
       "</table>\n",
       "</div>"
      ],
      "text/plain": [
       "  subreddit comment_id                                               text\n",
       "0     funny    jg3d9yg  \"Oh my god! That's awful!\" Exactly how you wan...\n",
       "1     funny    jg3af9r                         Her eyes when he stood up.\n",
       "2     funny    jg3apmv                                          [deleted]\n",
       "3     funny    jg3782t                 the reporter's name is Brad Blanks\n",
       "4     funny    jg39vhb  **Jennifer:** What are you getting in the way-..."
      ]
     },
     "execution_count": 3,
     "metadata": {},
     "output_type": "execute_result"
    }
   ],
   "source": [
    "top_10.head()"
   ]
  },
  {
   "cell_type": "markdown",
   "id": "0865de31-bb4f-410f-bfb5-3bc6904716b2",
   "metadata": {},
   "source": [
    "Since I scraped the data myself, the format is already good for my purposes and I don't have to clean up much, other than removing the `[deleted]` and `[removed]` comments. Each file is structured like this, with the only difference being the number of rows. The `subreddit` column contains of the name the subreddit the comment was left on. The `comment_id` column contains an id which can be used with the reddit api to fetch more information about a comment, such as its number of upvotes, the post it was left on, or when it was made. Finally, the `text` column contains the text of the comment."
   ]
  },
  {
   "cell_type": "code",
   "execution_count": 4,
   "id": "f1590e02-8890-4f82-87f1-322dff0c4fee",
   "metadata": {},
   "outputs": [
    {
     "name": "stdout",
     "output_type": "stream",
     "text": [
      "<class 'pandas.core.frame.DataFrame'>\n",
      "RangeIndex: 9838 entries, 0 to 9837\n",
      "Data columns (total 3 columns):\n",
      " #   Column      Non-Null Count  Dtype \n",
      "---  ------      --------------  ----- \n",
      " 0   subreddit   9838 non-null   object\n",
      " 1   comment_id  9838 non-null   object\n",
      " 2   text        9838 non-null   object\n",
      "dtypes: object(3)\n",
      "memory usage: 230.7+ KB\n"
     ]
    }
   ],
   "source": [
    "top_10.info()"
   ]
  },
  {
   "cell_type": "code",
   "execution_count": 5,
   "id": "a3a718a8-a3fb-42ec-a55e-59a04bc06593",
   "metadata": {},
   "outputs": [
    {
     "data": {
      "text/html": [
       "<div>\n",
       "<style scoped>\n",
       "    .dataframe tbody tr th:only-of-type {\n",
       "        vertical-align: middle;\n",
       "    }\n",
       "\n",
       "    .dataframe tbody tr th {\n",
       "        vertical-align: top;\n",
       "    }\n",
       "\n",
       "    .dataframe thead th {\n",
       "        text-align: right;\n",
       "    }\n",
       "</style>\n",
       "<table border=\"1\" class=\"dataframe\">\n",
       "  <thead>\n",
       "    <tr style=\"text-align: right;\">\n",
       "      <th></th>\n",
       "      <th>subreddit</th>\n",
       "      <th>comment_id</th>\n",
       "      <th>text</th>\n",
       "    </tr>\n",
       "  </thead>\n",
       "  <tbody>\n",
       "    <tr>\n",
       "      <th>count</th>\n",
       "      <td>9838</td>\n",
       "      <td>9838</td>\n",
       "      <td>9838</td>\n",
       "    </tr>\n",
       "    <tr>\n",
       "      <th>unique</th>\n",
       "      <td>10</td>\n",
       "      <td>9838</td>\n",
       "      <td>9456</td>\n",
       "    </tr>\n",
       "    <tr>\n",
       "      <th>top</th>\n",
       "      <td>aww</td>\n",
       "      <td>jg3d9yg</td>\n",
       "      <td>[deleted]</td>\n",
       "    </tr>\n",
       "    <tr>\n",
       "      <th>freq</th>\n",
       "      <td>1962</td>\n",
       "      <td>1</td>\n",
       "      <td>164</td>\n",
       "    </tr>\n",
       "  </tbody>\n",
       "</table>\n",
       "</div>"
      ],
      "text/plain": [
       "       subreddit comment_id       text\n",
       "count       9838       9838       9838\n",
       "unique        10       9838       9456\n",
       "top          aww    jg3d9yg  [deleted]\n",
       "freq        1962          1        164"
      ]
     },
     "execution_count": 5,
     "metadata": {},
     "output_type": "execute_result"
    }
   ],
   "source": [
    "top_10.describe()"
   ]
  },
  {
   "cell_type": "code",
   "execution_count": 6,
   "id": "43ef899d-f2f8-482a-bf2f-e5c5bcc916b3",
   "metadata": {},
   "outputs": [
    {
     "name": "stdout",
     "output_type": "stream",
     "text": [
      "<class 'pandas.core.frame.DataFrame'>\n",
      "RangeIndex: 120856 entries, 0 to 120855\n",
      "Data columns (total 3 columns):\n",
      " #   Column      Non-Null Count   Dtype \n",
      "---  ------      --------------   ----- \n",
      " 0   subreddit   120856 non-null  object\n",
      " 1   comment_id  120856 non-null  object\n",
      " 2   text        120856 non-null  object\n",
      "dtypes: object(3)\n",
      "memory usage: 2.8+ MB\n"
     ]
    }
   ],
   "source": [
    "top_100.info()"
   ]
  },
  {
   "cell_type": "code",
   "execution_count": 7,
   "id": "d64efaf1-99e2-42a8-a04f-58ac2007983a",
   "metadata": {},
   "outputs": [
    {
     "data": {
      "text/html": [
       "<div>\n",
       "<style scoped>\n",
       "    .dataframe tbody tr th:only-of-type {\n",
       "        vertical-align: middle;\n",
       "    }\n",
       "\n",
       "    .dataframe tbody tr th {\n",
       "        vertical-align: top;\n",
       "    }\n",
       "\n",
       "    .dataframe thead th {\n",
       "        text-align: right;\n",
       "    }\n",
       "</style>\n",
       "<table border=\"1\" class=\"dataframe\">\n",
       "  <thead>\n",
       "    <tr style=\"text-align: right;\">\n",
       "      <th></th>\n",
       "      <th>subreddit</th>\n",
       "      <th>comment_id</th>\n",
       "      <th>text</th>\n",
       "    </tr>\n",
       "  </thead>\n",
       "  <tbody>\n",
       "    <tr>\n",
       "      <th>count</th>\n",
       "      <td>120856</td>\n",
       "      <td>120856</td>\n",
       "      <td>120856</td>\n",
       "    </tr>\n",
       "    <tr>\n",
       "      <th>unique</th>\n",
       "      <td>100</td>\n",
       "      <td>120856</td>\n",
       "      <td>115028</td>\n",
       "    </tr>\n",
       "    <tr>\n",
       "      <th>top</th>\n",
       "      <td>cats</td>\n",
       "      <td>jg3d9yg</td>\n",
       "      <td>[deleted]</td>\n",
       "    </tr>\n",
       "    <tr>\n",
       "      <th>freq</th>\n",
       "      <td>2548</td>\n",
       "      <td>1</td>\n",
       "      <td>1342</td>\n",
       "    </tr>\n",
       "  </tbody>\n",
       "</table>\n",
       "</div>"
      ],
      "text/plain": [
       "       subreddit comment_id       text\n",
       "count     120856     120856     120856\n",
       "unique       100     120856     115028\n",
       "top         cats    jg3d9yg  [deleted]\n",
       "freq        2548          1       1342"
      ]
     },
     "execution_count": 7,
     "metadata": {},
     "output_type": "execute_result"
    }
   ],
   "source": [
    "top_100.describe()"
   ]
  },
  {
   "cell_type": "code",
   "execution_count": 8,
   "id": "7843b731-6706-4a8f-91ab-5f9dd65c8345",
   "metadata": {},
   "outputs": [
    {
     "name": "stdout",
     "output_type": "stream",
     "text": [
      "<class 'pandas.core.frame.DataFrame'>\n",
      "RangeIndex: 1132141 entries, 0 to 1132140\n",
      "Data columns (total 3 columns):\n",
      " #   Column      Non-Null Count    Dtype \n",
      "---  ------      --------------    ----- \n",
      " 0   subreddit   1132141 non-null  object\n",
      " 1   comment_id  1132141 non-null  object\n",
      " 2   text        1132141 non-null  object\n",
      "dtypes: object(3)\n",
      "memory usage: 25.9+ MB\n"
     ]
    }
   ],
   "source": [
    "top_1000.info()"
   ]
  },
  {
   "cell_type": "code",
   "execution_count": 9,
   "id": "d53858da-ec7c-4c7c-b53e-afaf3fe24f67",
   "metadata": {},
   "outputs": [
    {
     "data": {
      "text/html": [
       "<div>\n",
       "<style scoped>\n",
       "    .dataframe tbody tr th:only-of-type {\n",
       "        vertical-align: middle;\n",
       "    }\n",
       "\n",
       "    .dataframe tbody tr th {\n",
       "        vertical-align: top;\n",
       "    }\n",
       "\n",
       "    .dataframe thead th {\n",
       "        text-align: right;\n",
       "    }\n",
       "</style>\n",
       "<table border=\"1\" class=\"dataframe\">\n",
       "  <thead>\n",
       "    <tr style=\"text-align: right;\">\n",
       "      <th></th>\n",
       "      <th>subreddit</th>\n",
       "      <th>comment_id</th>\n",
       "      <th>text</th>\n",
       "    </tr>\n",
       "  </thead>\n",
       "  <tbody>\n",
       "    <tr>\n",
       "      <th>count</th>\n",
       "      <td>1132141</td>\n",
       "      <td>1132141</td>\n",
       "      <td>1132141</td>\n",
       "    </tr>\n",
       "    <tr>\n",
       "      <th>unique</th>\n",
       "      <td>1000</td>\n",
       "      <td>1132141</td>\n",
       "      <td>1056914</td>\n",
       "    </tr>\n",
       "    <tr>\n",
       "      <th>top</th>\n",
       "      <td>painting</td>\n",
       "      <td>jg3d9yg</td>\n",
       "      <td>[deleted]</td>\n",
       "    </tr>\n",
       "    <tr>\n",
       "      <th>freq</th>\n",
       "      <td>3851</td>\n",
       "      <td>1</td>\n",
       "      <td>9239</td>\n",
       "    </tr>\n",
       "  </tbody>\n",
       "</table>\n",
       "</div>"
      ],
      "text/plain": [
       "       subreddit comment_id       text\n",
       "count    1132141    1132141    1132141\n",
       "unique      1000    1132141    1056914\n",
       "top     painting    jg3d9yg  [deleted]\n",
       "freq        3851          1       9239"
      ]
     },
     "execution_count": 9,
     "metadata": {},
     "output_type": "execute_result"
    }
   ],
   "source": [
    "top_1000.describe()"
   ]
  },
  {
   "cell_type": "code",
   "execution_count": 10,
   "id": "e5bb43bd-1bbf-47dc-bfb8-2e9d0cec2c99",
   "metadata": {},
   "outputs": [
    {
     "name": "stdout",
     "output_type": "stream",
     "text": [
      "<class 'pandas.core.frame.DataFrame'>\n",
      "RangeIndex: 2320731 entries, 0 to 2320730\n",
      "Data columns (total 3 columns):\n",
      " #   Column      Dtype \n",
      "---  ------      ----- \n",
      " 0   subreddit   object\n",
      " 1   comment_id  object\n",
      " 2   text        object\n",
      "dtypes: object(3)\n",
      "memory usage: 53.1+ MB\n"
     ]
    }
   ],
   "source": [
    "top_2500.info()"
   ]
  },
  {
   "cell_type": "code",
   "execution_count": 11,
   "id": "2ac00df1-ec31-4023-b82f-e72f8d0d8308",
   "metadata": {},
   "outputs": [
    {
     "data": {
      "text/html": [
       "<div>\n",
       "<style scoped>\n",
       "    .dataframe tbody tr th:only-of-type {\n",
       "        vertical-align: middle;\n",
       "    }\n",
       "\n",
       "    .dataframe tbody tr th {\n",
       "        vertical-align: top;\n",
       "    }\n",
       "\n",
       "    .dataframe thead th {\n",
       "        text-align: right;\n",
       "    }\n",
       "</style>\n",
       "<table border=\"1\" class=\"dataframe\">\n",
       "  <thead>\n",
       "    <tr style=\"text-align: right;\">\n",
       "      <th></th>\n",
       "      <th>subreddit</th>\n",
       "      <th>comment_id</th>\n",
       "      <th>text</th>\n",
       "    </tr>\n",
       "  </thead>\n",
       "  <tbody>\n",
       "    <tr>\n",
       "      <th>count</th>\n",
       "      <td>2320731</td>\n",
       "      <td>2320731</td>\n",
       "      <td>2320731</td>\n",
       "    </tr>\n",
       "    <tr>\n",
       "      <th>unique</th>\n",
       "      <td>2492</td>\n",
       "      <td>2320731</td>\n",
       "      <td>2145538</td>\n",
       "    </tr>\n",
       "    <tr>\n",
       "      <th>top</th>\n",
       "      <td>Faces</td>\n",
       "      <td>jg3d9yg</td>\n",
       "      <td>[deleted]</td>\n",
       "    </tr>\n",
       "    <tr>\n",
       "      <th>freq</th>\n",
       "      <td>3858</td>\n",
       "      <td>1</td>\n",
       "      <td>17345</td>\n",
       "    </tr>\n",
       "  </tbody>\n",
       "</table>\n",
       "</div>"
      ],
      "text/plain": [
       "       subreddit comment_id       text\n",
       "count    2320731    2320731    2320731\n",
       "unique      2492    2320731    2145538\n",
       "top        Faces    jg3d9yg  [deleted]\n",
       "freq        3858          1      17345"
      ]
     },
     "execution_count": 11,
     "metadata": {},
     "output_type": "execute_result"
    }
   ],
   "source": [
    "top_2500.describe()"
   ]
  },
  {
   "cell_type": "markdown",
   "id": "a7df7eb0-ede3-4035-b6d7-a88b01875566",
   "metadata": {},
   "source": [
    "Almost all of this information seems to check out, and wow those big datasets have a lot of rows! But what are these 8 missing subreddits in the top_2500 dataset? We can pull in the list I used in my scraper to figures this out."
   ]
  },
  {
   "cell_type": "code",
   "execution_count": 12,
   "id": "0ce1aa4a-bcfd-4707-a1c8-057ec8176f2f",
   "metadata": {},
   "outputs": [
    {
     "data": {
      "text/plain": [
       "{'ForHire_GameDev',\n",
       " 'ForHire_OG',\n",
       " 'ForeverAloneDating',\n",
       " 'GlamourSchool',\n",
       " 'TheArtistStudio',\n",
       " 'badtattoos',\n",
       " 'recipegifs',\n",
       " 'shortcircuit'}"
      ]
     },
     "execution_count": 12,
     "metadata": {},
     "output_type": "execute_result"
    }
   ],
   "source": [
    "with open(\"../private/top_subreddits.txt\") as f:\n",
    "    expected = set(f.read().split())\n",
    "actual = set(top_2500[\"subreddit\"])\n",
    "expected.difference(actual)"
   ]
  },
  {
   "cell_type": "markdown",
   "id": "a5fc956d-75fc-47d3-9a3a-c93fee666790",
   "metadata": {},
   "source": [
    "Interesting, looking at these subreddits the problem for most of them seems to be that these subreddits haven't had any posts in the past year, and since I only looked at the top posts of the year, so there weren't any posts in the list."
   ]
  },
  {
   "cell_type": "markdown",
   "id": "d6f47f3a",
   "metadata": {},
   "source": [
    "## Cleaning"
   ]
  },
  {
   "cell_type": "markdown",
   "id": "cb83d5cc",
   "metadata": {},
   "source": [
    "For now, lets focus on the top 100, since it's what i want to do my first actual work with, we can start be removing deleted and removed comments."
   ]
  },
  {
   "cell_type": "code",
   "execution_count": 13,
   "id": "d36126e7",
   "metadata": {},
   "outputs": [
    {
     "data": {
      "text/plain": [
       "(118299, 3)"
      ]
     },
     "execution_count": 13,
     "metadata": {},
     "output_type": "execute_result"
    }
   ],
   "source": [
    "top_100 = top_100[top_100.text != \"[deleted]\"]\n",
    "top_100 = top_100[top_100.text != \"[removed]\"].reset_index(drop=True)\n",
    "top_100.shape"
   ]
  },
  {
   "cell_type": "markdown",
   "id": "2afbe92a",
   "metadata": {},
   "source": [
    "Down to 118,299 comments from 120,856 before, only around 2000 lost, pretty good! How many comments do I have per subreddit?"
   ]
  },
  {
   "cell_type": "code",
   "execution_count": 14,
   "id": "c926e0e3",
   "metadata": {},
   "outputs": [
    {
     "data": {
      "image/png": "[encoded data removed]",
      "text/plain": [
       "<Figure size 640x480 with 1 Axes>"
      ]
     },
     "metadata": {},
     "output_type": "display_data"
    }
   ],
   "source": [
    "plot = sns.boxplot(top_100.subreddit.value_counts(), orient=\"h\")\n",
    "plot.set_title(\"Comments Per Subreddit\")\n",
    "plt.show()"
   ]
  },
  {
   "cell_type": "markdown",
   "id": "90214718",
   "metadata": {},
   "source": [
    "Seems like a good number, although there are some with a lot less than others."
   ]
  },
  {
   "cell_type": "markdown",
   "id": "02e0522f",
   "metadata": {},
   "source": [
    "## Data Processing"
   ]
  },
  {
   "cell_type": "markdown",
   "id": "7de5aaf1",
   "metadata": {},
   "source": [
    "Now I want to add some more statistics to this data, lets start with tokenizing the comments and counting the number of tokens."
   ]
  },
  {
   "cell_type": "code",
   "execution_count": 15,
   "id": "6147d221",
   "metadata": {},
   "outputs": [],
   "source": [
    "top_100[\"tokens\"] = top_100.text.map(nltk.word_tokenize)"
   ]
  },
  {
   "cell_type": "code",
   "execution_count": 16,
   "id": "452c3da9",
   "metadata": {},
   "outputs": [
    {
     "data": {
      "text/html": [
       "<div>\n",
       "<style scoped>\n",
       "    .dataframe tbody tr th:only-of-type {\n",
       "        vertical-align: middle;\n",
       "    }\n",
       "\n",
       "    .dataframe tbody tr th {\n",
       "        vertical-align: top;\n",
       "    }\n",
       "\n",
       "    .dataframe thead th {\n",
       "        text-align: right;\n",
       "    }\n",
       "</style>\n",
       "<table border=\"1\" class=\"dataframe\">\n",
       "  <thead>\n",
       "    <tr style=\"text-align: right;\">\n",
       "      <th></th>\n",
       "      <th>subreddit</th>\n",
       "      <th>comment_id</th>\n",
       "      <th>text</th>\n",
       "      <th>tokens</th>\n",
       "      <th>num_tokens</th>\n",
       "    </tr>\n",
       "  </thead>\n",
       "  <tbody>\n",
       "    <tr>\n",
       "      <th>0</th>\n",
       "      <td>funny</td>\n",
       "      <td>jg3d9yg</td>\n",
       "      <td>\"Oh my god! That's awful!\" Exactly how you wan...</td>\n",
       "      <td>[``, Oh, my, god, !, That, 's, awful, !, '', E...</td>\n",
       "      <td>24</td>\n",
       "    </tr>\n",
       "    <tr>\n",
       "      <th>1</th>\n",
       "      <td>funny</td>\n",
       "      <td>jg3af9r</td>\n",
       "      <td>Her eyes when he stood up.</td>\n",
       "      <td>[Her, eyes, when, he, stood, up, .]</td>\n",
       "      <td>7</td>\n",
       "    </tr>\n",
       "    <tr>\n",
       "      <th>2</th>\n",
       "      <td>funny</td>\n",
       "      <td>jg3782t</td>\n",
       "      <td>the reporter's name is Brad Blanks</td>\n",
       "      <td>[the, reporter, 's, name, is, Brad, Blanks]</td>\n",
       "      <td>7</td>\n",
       "    </tr>\n",
       "    <tr>\n",
       "      <th>3</th>\n",
       "      <td>funny</td>\n",
       "      <td>jg39vhb</td>\n",
       "      <td>**Jennifer:** What are you getting in the way-...</td>\n",
       "      <td>[*, *, Jennifer, :, *, *, What, are, you, gett...</td>\n",
       "      <td>19</td>\n",
       "    </tr>\n",
       "    <tr>\n",
       "      <th>4</th>\n",
       "      <td>funny</td>\n",
       "      <td>jg36sqa</td>\n",
       "      <td>They “were scared…of my brutish height.” 😂</td>\n",
       "      <td>[They, “, were, scared…of, my, brutish, height...</td>\n",
       "      <td>9</td>\n",
       "    </tr>\n",
       "  </tbody>\n",
       "</table>\n",
       "</div>"
      ],
      "text/plain": [
       "  subreddit comment_id                                               text  \\\n",
       "0     funny    jg3d9yg  \"Oh my god! That's awful!\" Exactly how you wan...   \n",
       "1     funny    jg3af9r                         Her eyes when he stood up.   \n",
       "2     funny    jg3782t                 the reporter's name is Brad Blanks   \n",
       "3     funny    jg39vhb  **Jennifer:** What are you getting in the way-...   \n",
       "4     funny    jg36sqa         They “were scared…of my brutish height.” 😂   \n",
       "\n",
       "                                              tokens  num_tokens  \n",
       "0  [``, Oh, my, god, !, That, 's, awful, !, '', E...          24  \n",
       "1                [Her, eyes, when, he, stood, up, .]           7  \n",
       "2        [the, reporter, 's, name, is, Brad, Blanks]           7  \n",
       "3  [*, *, Jennifer, :, *, *, What, are, you, gett...          19  \n",
       "4  [They, “, were, scared…of, my, brutish, height...           9  "
      ]
     },
     "execution_count": 16,
     "metadata": {},
     "output_type": "execute_result"
    }
   ],
   "source": [
    "top_100[\"num_tokens\"] = top_100.tokens.map(len)\n",
    "top_100.head()"
   ]
  },
  {
   "cell_type": "code",
   "execution_count": 17,
   "id": "a632f28a",
   "metadata": {},
   "outputs": [
    {
     "data": {
      "text/plain": [
       "0         24\n",
       "1          7\n",
       "2          7\n",
       "3         19\n",
       "4          9\n",
       "          ..\n",
       "118294     7\n",
       "118295     2\n",
       "118296    13\n",
       "118297     7\n",
       "118298     3\n",
       "Name: num_tokens, Length: 118299, dtype: int64"
      ]
     },
     "execution_count": 17,
     "metadata": {},
     "output_type": "execute_result"
    }
   ],
   "source": [
    "top_100.num_tokens"
   ]
  },
  {
   "cell_type": "markdown",
   "id": "9096f146",
   "metadata": {},
   "source": [
    "All pretty short except a few extreme outliers, I wonder what those are?"
   ]
  },
  {
   "cell_type": "code",
   "execution_count": 18,
   "id": "5497585e",
   "metadata": {},
   "outputs": [
    {
     "data": {
      "text/html": [
       "<div>\n",
       "<style scoped>\n",
       "    .dataframe tbody tr th:only-of-type {\n",
       "        vertical-align: middle;\n",
       "    }\n",
       "\n",
       "    .dataframe tbody tr th {\n",
       "        vertical-align: top;\n",
       "    }\n",
       "\n",
       "    .dataframe thead th {\n",
       "        text-align: right;\n",
       "    }\n",
       "</style>\n",
       "<table border=\"1\" class=\"dataframe\">\n",
       "  <thead>\n",
       "    <tr style=\"text-align: right;\">\n",
       "      <th></th>\n",
       "      <th>subreddit</th>\n",
       "      <th>comment_id</th>\n",
       "      <th>text</th>\n",
       "      <th>tokens</th>\n",
       "      <th>num_tokens</th>\n",
       "    </tr>\n",
       "  </thead>\n",
       "  <tbody>\n",
       "    <tr>\n",
       "      <th>41204</th>\n",
       "      <td>WritingPrompts</td>\n",
       "      <td>jbdwcd3</td>\n",
       "      <td>\"This is the UN PKF Big Stick Protocol approac...</td>\n",
       "      <td>[``, This, is, the, UN, PKF, Big, Stick, Proto...</td>\n",
       "      <td>2047</td>\n",
       "    </tr>\n",
       "    <tr>\n",
       "      <th>41296</th>\n",
       "      <td>WritingPrompts</td>\n",
       "      <td>jay1c1w</td>\n",
       "      <td>\"Look,\" said the demon. \"This is the 13th time...</td>\n",
       "      <td>[``, Look, ,, '', said, the, demon, ., ``, Thi...</td>\n",
       "      <td>2249</td>\n",
       "    </tr>\n",
       "    <tr>\n",
       "      <th>74778</th>\n",
       "      <td>EatCheapAndHealthy</td>\n",
       "      <td>kengegu</td>\n",
       "      <td>I also am limited to around $100 a month for g...</td>\n",
       "      <td>[I, also, am, limited, to, around, $, 100, a, ...</td>\n",
       "      <td>2115</td>\n",
       "    </tr>\n",
       "  </tbody>\n",
       "</table>\n",
       "</div>"
      ],
      "text/plain": [
       "                subreddit comment_id  \\\n",
       "41204      WritingPrompts    jbdwcd3   \n",
       "41296      WritingPrompts    jay1c1w   \n",
       "74778  EatCheapAndHealthy    kengegu   \n",
       "\n",
       "                                                    text  \\\n",
       "41204  \"This is the UN PKF Big Stick Protocol approac...   \n",
       "41296  \"Look,\" said the demon. \"This is the 13th time...   \n",
       "74778  I also am limited to around $100 a month for g...   \n",
       "\n",
       "                                                  tokens  num_tokens  \n",
       "41204  [``, This, is, the, UN, PKF, Big, Stick, Proto...        2047  \n",
       "41296  [``, Look, ,, '', said, the, demon, ., ``, Thi...        2249  \n",
       "74778  [I, also, am, limited, to, around, $, 100, a, ...        2115  "
      ]
     },
     "execution_count": 18,
     "metadata": {},
     "output_type": "execute_result"
    }
   ],
   "source": [
    "top_100[top_100.num_tokens > 2000]"
   ]
  },
  {
   "cell_type": "markdown",
   "id": "573335e5",
   "metadata": {},
   "source": [
    "Seems to be on writing prompts, and one person writing about saving money on shopping. Next i'm going to add a few columns that should help with my analysis later."
   ]
  },
  {
   "cell_type": "code",
   "execution_count": 19,
   "id": "d88d2496",
   "metadata": {},
   "outputs": [
    {
     "data": {
      "text/html": [
       "<div>\n",
       "<style scoped>\n",
       "    .dataframe tbody tr th:only-of-type {\n",
       "        vertical-align: middle;\n",
       "    }\n",
       "\n",
       "    .dataframe tbody tr th {\n",
       "        vertical-align: top;\n",
       "    }\n",
       "\n",
       "    .dataframe thead th {\n",
       "        text-align: right;\n",
       "    }\n",
       "</style>\n",
       "<table border=\"1\" class=\"dataframe\">\n",
       "  <thead>\n",
       "    <tr style=\"text-align: right;\">\n",
       "      <th></th>\n",
       "      <th>subreddit</th>\n",
       "      <th>comment_id</th>\n",
       "      <th>text</th>\n",
       "      <th>tokens</th>\n",
       "      <th>num_tokens</th>\n",
       "      <th>num_types</th>\n",
       "      <th>ttr</th>\n",
       "      <th>avg_word_len</th>\n",
       "    </tr>\n",
       "  </thead>\n",
       "  <tbody>\n",
       "    <tr>\n",
       "      <th>0</th>\n",
       "      <td>funny</td>\n",
       "      <td>jg3d9yg</td>\n",
       "      <td>\"Oh my god! That's awful!\" Exactly how you wan...</td>\n",
       "      <td>[``, Oh, my, god, !, That, 's, awful, !, '', E...</td>\n",
       "      <td>24</td>\n",
       "      <td>22</td>\n",
       "      <td>0.916667</td>\n",
       "      <td>3.250000</td>\n",
       "    </tr>\n",
       "    <tr>\n",
       "      <th>1</th>\n",
       "      <td>funny</td>\n",
       "      <td>jg3af9r</td>\n",
       "      <td>Her eyes when he stood up.</td>\n",
       "      <td>[Her, eyes, when, he, stood, up, .]</td>\n",
       "      <td>7</td>\n",
       "      <td>7</td>\n",
       "      <td>1.000000</td>\n",
       "      <td>3.000000</td>\n",
       "    </tr>\n",
       "    <tr>\n",
       "      <th>2</th>\n",
       "      <td>funny</td>\n",
       "      <td>jg3782t</td>\n",
       "      <td>the reporter's name is Brad Blanks</td>\n",
       "      <td>[the, reporter, 's, name, is, Brad, Blanks]</td>\n",
       "      <td>7</td>\n",
       "      <td>7</td>\n",
       "      <td>1.000000</td>\n",
       "      <td>4.142857</td>\n",
       "    </tr>\n",
       "    <tr>\n",
       "      <th>3</th>\n",
       "      <td>funny</td>\n",
       "      <td>jg39vhb</td>\n",
       "      <td>**Jennifer:** What are you getting in the way-...</td>\n",
       "      <td>[*, *, Jennifer, :, *, *, What, are, you, gett...</td>\n",
       "      <td>19</td>\n",
       "      <td>16</td>\n",
       "      <td>0.842105</td>\n",
       "      <td>2.526316</td>\n",
       "    </tr>\n",
       "    <tr>\n",
       "      <th>4</th>\n",
       "      <td>funny</td>\n",
       "      <td>jg36sqa</td>\n",
       "      <td>They “were scared…of my brutish height.” 😂</td>\n",
       "      <td>[They, “, were, scared…of, my, brutish, height...</td>\n",
       "      <td>9</td>\n",
       "      <td>9</td>\n",
       "      <td>1.000000</td>\n",
       "      <td>4.000000</td>\n",
       "    </tr>\n",
       "  </tbody>\n",
       "</table>\n",
       "</div>"
      ],
      "text/plain": [
       "  subreddit comment_id                                               text  \\\n",
       "0     funny    jg3d9yg  \"Oh my god! That's awful!\" Exactly how you wan...   \n",
       "1     funny    jg3af9r                         Her eyes when he stood up.   \n",
       "2     funny    jg3782t                 the reporter's name is Brad Blanks   \n",
       "3     funny    jg39vhb  **Jennifer:** What are you getting in the way-...   \n",
       "4     funny    jg36sqa         They “were scared…of my brutish height.” 😂   \n",
       "\n",
       "                                              tokens  num_tokens  num_types  \\\n",
       "0  [``, Oh, my, god, !, That, 's, awful, !, '', E...          24         22   \n",
       "1                [Her, eyes, when, he, stood, up, .]           7          7   \n",
       "2        [the, reporter, 's, name, is, Brad, Blanks]           7          7   \n",
       "3  [*, *, Jennifer, :, *, *, What, are, you, gett...          19         16   \n",
       "4  [They, “, were, scared…of, my, brutish, height...           9          9   \n",
       "\n",
       "        ttr  avg_word_len  \n",
       "0  0.916667      3.250000  \n",
       "1  1.000000      3.000000  \n",
       "2  1.000000      4.142857  \n",
       "3  0.842105      2.526316  \n",
       "4  1.000000      4.000000  "
      ]
     },
     "execution_count": 19,
     "metadata": {},
     "output_type": "execute_result"
    }
   ],
   "source": [
    "top_100[\"num_types\"] = top_100.tokens.map(lambda t: len(set(t)))\n",
    "top_100[\"ttr\"] = top_100[\"num_types\"] / top_100[\"num_tokens\"]\n",
    "top_100[\"avg_word_len\"] = top_100.tokens.map(lambda t: np.mean([len(tok) for tok in t]))\n",
    "top_100.head()"
   ]
  },
  {
   "cell_type": "code",
   "execution_count": 20,
   "id": "2c5d37e5",
   "metadata": {},
   "outputs": [
    {
     "data": {
      "text/html": [
       "<div>\n",
       "<style scoped>\n",
       "    .dataframe tbody tr th:only-of-type {\n",
       "        vertical-align: middle;\n",
       "    }\n",
       "\n",
       "    .dataframe tbody tr th {\n",
       "        vertical-align: top;\n",
       "    }\n",
       "\n",
       "    .dataframe thead th {\n",
       "        text-align: right;\n",
       "    }\n",
       "</style>\n",
       "<table border=\"1\" class=\"dataframe\">\n",
       "  <thead>\n",
       "    <tr style=\"text-align: right;\">\n",
       "      <th></th>\n",
       "      <th>num_tokens</th>\n",
       "      <th>num_types</th>\n",
       "      <th>ttr</th>\n",
       "      <th>avg_word_len</th>\n",
       "    </tr>\n",
       "  </thead>\n",
       "  <tbody>\n",
       "    <tr>\n",
       "      <th>count</th>\n",
       "      <td>118299.000000</td>\n",
       "      <td>118299.000000</td>\n",
       "      <td>118299.000000</td>\n",
       "      <td>118299.000000</td>\n",
       "    </tr>\n",
       "    <tr>\n",
       "      <th>mean</th>\n",
       "      <td>27.472185</td>\n",
       "      <td>21.117161</td>\n",
       "      <td>0.913297</td>\n",
       "      <td>3.977055</td>\n",
       "    </tr>\n",
       "    <tr>\n",
       "      <th>std</th>\n",
       "      <td>57.617757</td>\n",
       "      <td>28.901683</td>\n",
       "      <td>0.113921</td>\n",
       "      <td>3.219697</td>\n",
       "    </tr>\n",
       "    <tr>\n",
       "      <th>min</th>\n",
       "      <td>1.000000</td>\n",
       "      <td>1.000000</td>\n",
       "      <td>0.016667</td>\n",
       "      <td>1.000000</td>\n",
       "    </tr>\n",
       "    <tr>\n",
       "      <th>25%</th>\n",
       "      <td>7.000000</td>\n",
       "      <td>7.000000</td>\n",
       "      <td>0.857143</td>\n",
       "      <td>3.350000</td>\n",
       "    </tr>\n",
       "    <tr>\n",
       "      <th>50%</th>\n",
       "      <td>14.000000</td>\n",
       "      <td>13.000000</td>\n",
       "      <td>0.954545</td>\n",
       "      <td>3.750000</td>\n",
       "    </tr>\n",
       "    <tr>\n",
       "      <th>75%</th>\n",
       "      <td>28.000000</td>\n",
       "      <td>24.000000</td>\n",
       "      <td>1.000000</td>\n",
       "      <td>4.200000</td>\n",
       "    </tr>\n",
       "    <tr>\n",
       "      <th>max</th>\n",
       "      <td>2249.000000</td>\n",
       "      <td>768.000000</td>\n",
       "      <td>1.000000</td>\n",
       "      <td>765.000000</td>\n",
       "    </tr>\n",
       "  </tbody>\n",
       "</table>\n",
       "</div>"
      ],
      "text/plain": [
       "          num_tokens      num_types            ttr   avg_word_len\n",
       "count  118299.000000  118299.000000  118299.000000  118299.000000\n",
       "mean       27.472185      21.117161       0.913297       3.977055\n",
       "std        57.617757      28.901683       0.113921       3.219697\n",
       "min         1.000000       1.000000       0.016667       1.000000\n",
       "25%         7.000000       7.000000       0.857143       3.350000\n",
       "50%        14.000000      13.000000       0.954545       3.750000\n",
       "75%        28.000000      24.000000       1.000000       4.200000\n",
       "max      2249.000000     768.000000       1.000000     765.000000"
      ]
     },
     "execution_count": 20,
     "metadata": {},
     "output_type": "execute_result"
    }
   ],
   "source": [
    "top_100.describe()"
   ]
  },
  {
   "cell_type": "code",
   "execution_count": 21,
   "id": "77505131",
   "metadata": {},
   "outputs": [],
   "source": [
    "top_100.to_pickle(\"../private/top_100_processed.pkl\")"
   ]
  },
  {
   "cell_type": "markdown",
   "id": "23b5b0b1",
   "metadata": {},
   "source": [
    "Now I'll quickly process the two bigger datasets for later use."
   ]
  },
  {
   "cell_type": "code",
   "execution_count": 22,
   "id": "052a0140",
   "metadata": {},
   "outputs": [
    {
     "name": "stderr",
     "output_type": "stream",
     "text": [
      "c:\\Users\\oci\\AppData\\Local\\Programs\\Python\\Python312\\Lib\\site-packages\\numpy\\core\\fromnumeric.py:3504: RuntimeWarning: Mean of empty slice.\n",
      "  return _methods._mean(a, axis=axis, dtype=dtype,\n",
      "c:\\Users\\oci\\AppData\\Local\\Programs\\Python\\Python312\\Lib\\site-packages\\numpy\\core\\_methods.py:129: RuntimeWarning: invalid value encountered in scalar divide\n",
      "  ret = ret.dtype.type(ret / rcount)\n"
     ]
    }
   ],
   "source": [
    "top_1000 = top_1000[top_1000.text != \"[deleted]\"]\n",
    "top_1000 = top_1000[top_1000.text != \"[removed]\"].reset_index(drop=True)\n",
    "top_1000[\"tokens\"] = top_1000.text.map(nltk.word_tokenize)\n",
    "top_1000[\"num_tokens\"] = top_1000.tokens.map(len)\n",
    "top_1000[\"num_types\"] = top_1000.tokens.map(lambda t: len(set(t)))\n",
    "top_1000[\"ttr\"] = top_1000[\"num_types\"] / top_1000[\"num_tokens\"]\n",
    "top_1000[\"avg_word_len\"] = top_1000.tokens.map(lambda t: np.mean([len(tok) for tok in t]))\n",
    "top_1000.to_pickle(\"../private/top_1000_processed.pkl\")"
   ]
  },
  {
   "cell_type": "code",
   "execution_count": 23,
   "id": "6f540a82",
   "metadata": {},
   "outputs": [
    {
     "name": "stderr",
     "output_type": "stream",
     "text": [
      "c:\\Users\\oci\\AppData\\Local\\Programs\\Python\\Python312\\Lib\\site-packages\\numpy\\core\\fromnumeric.py:3504: RuntimeWarning: Mean of empty slice.\n",
      "  return _methods._mean(a, axis=axis, dtype=dtype,\n",
      "c:\\Users\\oci\\AppData\\Local\\Programs\\Python\\Python312\\Lib\\site-packages\\numpy\\core\\_methods.py:129: RuntimeWarning: invalid value encountered in scalar divide\n",
      "  ret = ret.dtype.type(ret / rcount)\n"
     ]
    }
   ],
   "source": [
    "top_2500 = top_2500[top_2500.text != \"[deleted]\"]\n",
    "top_2500 = top_2500[top_2500.text != \"[removed]\"].reset_index(drop=True)\n",
    "top_2500[\"tokens\"] = top_2500.text.map(nltk.word_tokenize)\n",
    "top_2500[\"num_tokens\"] = top_2500.tokens.map(len)\n",
    "top_2500[\"num_types\"] = top_2500.tokens.map(lambda t: len(set(t)))\n",
    "top_2500[\"ttr\"] = top_2500[\"num_types\"] / top_2500[\"num_tokens\"]\n",
    "top_2500[\"avg_word_len\"] = top_2500.tokens.map(lambda t: np.mean([len(tok) for tok in t]))\n",
    "top_2500.to_pickle(\"../private/top_2500_processed.pkl\")"
   ]
  },
  {
   "cell_type": "markdown",
   "id": "c7e9c0f9",
   "metadata": {},
   "source": [
    "## Looking at Processed Data"
   ]
  },
  {
   "cell_type": "markdown",
   "id": "75399fbd",
   "metadata": {},
   "source": [
    "Finally, lets take a quick look around some of the newly created statistics. Number of tokens for example!"
   ]
  },
  {
   "cell_type": "code",
   "execution_count": 24,
   "id": "3e2a4e99",
   "metadata": {},
   "outputs": [
    {
     "data": {
      "text/plain": [
       "Text(0.5, 1.0, 'Number of Tokens, Top 100 Subreddits')"
      ]
     },
     "execution_count": 24,
     "metadata": {},
     "output_type": "execute_result"
    },
    {
     "data": {
      "image/png": "[encoded data removed]",
      "text/plain": [
       "<Figure size 640x480 with 1 Axes>"
      ]
     },
     "metadata": {},
     "output_type": "display_data"
    }
   ],
   "source": [
    "sns.boxplot(x=top_100[\"num_tokens\"]).set_title(\"Number of Tokens, Top 100 Subreddits\")"
   ]
  },
  {
   "cell_type": "markdown",
   "id": "4593240b",
   "metadata": {},
   "source": [
    "That is a lot of outliers, I wonder what it looks like without those..."
   ]
  },
  {
   "cell_type": "code",
   "execution_count": 25,
   "id": "ac2b3573",
   "metadata": {},
   "outputs": [
    {
     "data": {
      "text/plain": [
       "Text(0.5, 1.0, 'Number of Tokens, No Outliers, Top 100 Subreddits')"
      ]
     },
     "execution_count": 25,
     "metadata": {},
     "output_type": "execute_result"
    },
    {
     "data": {
      "image/png": "[encoded data removed]",
      "text/plain": [
       "<Figure size 640x480 with 1 Axes>"
      ]
     },
     "metadata": {},
     "output_type": "display_data"
    }
   ],
   "source": [
    "sns.boxplot(x=top_100[\"num_tokens\"], showfliers=False).set_title(\"Number of Tokens, No Outliers, Top 100 Subreddits\")"
   ]
  },
  {
   "cell_type": "markdown",
   "id": "e526caef",
   "metadata": {},
   "source": [
    "All very short, what about the top 2500?"
   ]
  },
  {
   "cell_type": "code",
   "execution_count": 26,
   "id": "e9a466c3",
   "metadata": {},
   "outputs": [
    {
     "data": {
      "text/plain": [
       "Text(0.5, 1.0, 'Number of Tokens, Top 2500 Subreddits')"
      ]
     },
     "execution_count": 26,
     "metadata": {},
     "output_type": "execute_result"
    },
    {
     "data": {
      "image/png": "[encoded data removed]",
      "text/plain": [
       "<Figure size 640x480 with 1 Axes>"
      ]
     },
     "metadata": {},
     "output_type": "display_data"
    }
   ],
   "source": [
    "sns.boxplot(x=top_2500[\"num_tokens\"]).set_title(\"Number of Tokens, Top 2500 Subreddits\")"
   ]
  },
  {
   "cell_type": "markdown",
   "id": "80a69654",
   "metadata": {},
   "source": [
    "Wow one person really likes typing, i wonder what that comment is?"
   ]
  },
  {
   "cell_type": "code",
   "execution_count": 27,
   "id": "d243d5ed",
   "metadata": {},
   "outputs": [
    {
     "data": {
      "text/html": [
       "<div>\n",
       "<style scoped>\n",
       "    .dataframe tbody tr th:only-of-type {\n",
       "        vertical-align: middle;\n",
       "    }\n",
       "\n",
       "    .dataframe tbody tr th {\n",
       "        vertical-align: top;\n",
       "    }\n",
       "\n",
       "    .dataframe thead th {\n",
       "        text-align: right;\n",
       "    }\n",
       "</style>\n",
       "<table border=\"1\" class=\"dataframe\">\n",
       "  <thead>\n",
       "    <tr style=\"text-align: right;\">\n",
       "      <th></th>\n",
       "      <th>subreddit</th>\n",
       "      <th>comment_id</th>\n",
       "      <th>text</th>\n",
       "      <th>tokens</th>\n",
       "      <th>num_tokens</th>\n",
       "      <th>num_types</th>\n",
       "      <th>ttr</th>\n",
       "      <th>avg_word_len</th>\n",
       "    </tr>\n",
       "  </thead>\n",
       "  <tbody>\n",
       "    <tr>\n",
       "      <th>321487</th>\n",
       "      <td>math</td>\n",
       "      <td>kffufp8</td>\n",
       "      <td>2^3 + 3^3 + 4^3 + 5^3 + 6^3 + 7^3 + 8^3 + 9^3 ...</td>\n",
       "      <td>[2^3, +, 3^3, +, 4^3, +, 5^3, +, 6^3, +, 7^3, ...</td>\n",
       "      <td>4798</td>\n",
       "      <td>103</td>\n",
       "      <td>0.021467</td>\n",
       "      <td>2.048979</td>\n",
       "    </tr>\n",
       "  </tbody>\n",
       "</table>\n",
       "</div>"
      ],
      "text/plain": [
       "       subreddit comment_id  \\\n",
       "321487      math    kffufp8   \n",
       "\n",
       "                                                     text  \\\n",
       "321487  2^3 + 3^3 + 4^3 + 5^3 + 6^3 + 7^3 + 8^3 + 9^3 ...   \n",
       "\n",
       "                                                   tokens  num_tokens  \\\n",
       "321487  [2^3, +, 3^3, +, 4^3, +, 5^3, +, 6^3, +, 7^3, ...        4798   \n",
       "\n",
       "        num_types       ttr  avg_word_len  \n",
       "321487        103  0.021467      2.048979  "
      ]
     },
     "execution_count": 27,
     "metadata": {},
     "output_type": "execute_result"
    }
   ],
   "source": [
    "top_2500[top_2500.num_tokens > 4000]"
   ]
  },
  {
   "cell_type": "code",
   "execution_count": 28,
   "id": "d9a47059",
   "metadata": {},
   "outputs": [
    {
     "name": "stdout",
     "output_type": "stream",
     "text": [
      "2^3 + 3^3 + 4^3 + 5^3 + 6^3 + 7^3 + 8^3 + 9^3 = 2^10 + 10^3\n",
      "\n",
      "10^3 - 9^3 - 8^3 - 7^3 - 6^3 - 5^3 - 4^3 - 3^3 - 2^3 = -2^10\n",
      "\n",
      "---\n",
      "\n",
      "This text is in protest against reddit forcing its new user interface on mobile users regardless of whether they're opted out or not. They know it sucks and know users hate it and now they're forcing it on those users. If reddit wants to play silly games then so can us users. Each comment can be upto 10,000 characters in length and data costs money to store and serve. So, this is me doing my bit making reddit pay for its action. If we all adopt this measure, costs may start to add up for them. This signature uses \"-\" to pad out the comment to 10,000 chars which show up as a horizontal line.\n",
      "\n",
      "--------------------------------------------------------------------------------------------------------------------------------------------------------------------------------------------------------------------------------------------------------------------------------------------------------------------------------------------------------------------------------------------------------------------------------------------------------------------------------------------------------------------------------------------------------------------------------------------------------------------------------------------------------------------------------------------------------------------------------------------------------------------------------------------------------------------------------------------------------------------------------------------------------------------------------------------------------------------------------------------------------------------------------------------------------------------------------------------------------------------------------------------------------------------------------------------------------------------------------------------------------------------------------------------------------------------------------------------------------------------------------------------------------------------------------------------------------------------------------------------------------------------------------------------------------------------------------------------------------------------------------------------------------------------------------------------------------------------------------------------------------------------------------------------------------------------------------------------------------------------------------------------------------------------------------------------------------------------------------------------------------------------------------------------------------------------------------------------------------------------------------------------------------------------------------------------------------------------------------------------------------------------------------------------------------------------------------------------------------------------------------------------------------------------------------------------------------------------------------------------------------------------------------------------------------------------------------------------------------------------------------------------------------------------------------------------------------------------------------------------------------------------------------------------------------------------------------------------------------------------------------------------------------------------------------------------------------------------------------------------------------------------------------------------------------------------------------------------------------------------------------------------------------------------------------------------------------------------------------------------------------------------------------------------------------------------------------------------------------------------------------------------------------------------------------------------------------------------------------------------------------------------------------------------------------------------------------------------------------------------------------------------------------------------------------------------------------------------------------------------------------------------------------------------------------------------------------------------------------------------------------------------------------------------------------------------------------------------------------------------------------------------------------------------------------------------------------------------------------------------------------------------------------------------------------------------------------------------------------------------------------------------------------------------------------------------------------------------------------------------------------------------------------------------------------------------------------------------------------------------------------------------------------------------------------------------------------------------------------------------------------------------------------------------------------------------------------------------------------------------------------------------------------------------------------------------------------------------------------------------------------------------------------------------------------------------------------------------------------------------------------------------------------------------------------------------------------------------------------------------------------------------------------------------------------------------------------------------------------------------------------------------------------------------------------------------------------------------------------------------------------------------------------------------------------------------------------------------------------------------------------------------------------------------------------------------------------------------------------------------------------------------------------------------------------------------------------------------------------------------------------------------------------------------------------------------------------------------------------------------------------------------------------------------------------------------------------------------------------------------------------------------------------------------------------------------------------------------------------------------------------------------------------------------------------------------------------------------------------------------------------------------------------------------------------------------------------------------------------------------------------------------------------------------------------------------------------------------------------------------------------------------------------------------------------------------------------------------------------------------------------------------------------------------------------------------------------------------------------------------------------------------------------------------------------------------------------------------------------------------------------------------------------------------------------------------------------------------------------------------------------------------------------------------------------------------------------------------------------------------------------------------------------------------------------------------------------------------------------------------------------------------------------------------------------------------------------------------------------------------------------------------------------------------------------------------------------------------------------------------------------------------------------------------------------------------------------------------------------------------------------------------------------------------------------------------------------------------------------------------------------------------------------------------------------------------------------------------------------------------------------------------------------------------------------------------------------------------------------------------------------------------------------------------------------------------------------------------------------------------------------------------------------------------------------------------------------------------------------------------------------------------------------------------------------------------------------------------------------------------------------------------------------------------------------------------------------------------------------------------------------------------------------------------------------------------------------------------------------------------------------------------------------------------------------------------------------------------------------------------------------------------------------------------------------------------------------------------------------------------------------------------------------------------------------------------------------------------------------------------------------------------------------------------------------------------------------------------------------------------------------------------------------------------------------------------------------------------------------------------------------------------------------------------------------------------------------------------------------------------------------------------------------------------------------------------------------------------------------------------------------------------------------------------------------------------------------------------------------------------------------------------\n"
     ]
    }
   ],
   "source": [
    "print(list(top_2500[top_2500.num_tokens > 4000].text)[0])"
   ]
  },
  {
   "cell_type": "markdown",
   "id": "069ea3c6",
   "metadata": {},
   "source": [
    "Oh, a user protesting a UI change by making all of their comments extremely long. fascinating."
   ]
  },
  {
   "cell_type": "code",
   "execution_count": 29,
   "id": "7c9c7eb7",
   "metadata": {},
   "outputs": [
    {
     "data": {
      "text/plain": [
       "Text(0.5, 1.0, 'Number of Tokens, No Outliers, Top 2500 Subreddits')"
      ]
     },
     "execution_count": 29,
     "metadata": {},
     "output_type": "execute_result"
    },
    {
     "data": {
      "image/png": "[encoded data removed]",
      "text/plain": [
       "<Figure size 640x480 with 1 Axes>"
      ]
     },
     "metadata": {},
     "output_type": "display_data"
    }
   ],
   "source": [
    "sns.boxplot(x=top_2500[\"num_tokens\"], showfliers=False).set_title(\"Number of Tokens, No Outliers, Top 2500 Subreddits\")"
   ]
  },
  {
   "cell_type": "markdown",
   "id": "e9ec4b61",
   "metadata": {},
   "source": [
    "And this looks about the same."
   ]
  },
  {
   "cell_type": "code",
   "execution_count": null,
   "id": "8b9eaa2a",
   "metadata": {},
   "outputs": [],
   "source": []
  }
 ],
 "metadata": {
  "kernelspec": {
   "display_name": "Python 3 (ipykernel)",
   "language": "python",
   "name": "python3"
  },
  "language_info": {
   "codemirror_mode": {
    "name": "ipython",
    "version": 3
   },
   "file_extension": ".py",
   "mimetype": "text/x-python",
   "name": "python",
   "nbconvert_exporter": "python",
   "pygments_lexer": "ipython3",
   "version": "3.12.1"
  }
 },
 "nbformat": 4,
 "nbformat_minor": 5
}
